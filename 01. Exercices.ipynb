{
 "cells": [
  {
   "cell_type": "markdown",
   "id": "2a35bf5d-1a8d-43d3-b3d7-309a6135a1db",
   "metadata": {},
   "source": [
    "# Exercices Séance 1"
   ]
  },
  {
   "cell_type": "markdown",
   "id": "c88fb61d-e29a-4fb5-82a1-261cc9500ed3",
   "metadata": {},
   "source": [
    "## Variables"
   ]
  },
  {
   "cell_type": "markdown",
   "id": "502c2313-67c2-4810-bf4e-29e1214f9786",
   "metadata": {},
   "source": [
    "Déclarer des variables de différents types et réaliser les sorties en console"
   ]
  },
  {
   "cell_type": "code",
   "execution_count": null,
   "id": "b280979c-d1cd-4976-ac69-7b163cd22363",
   "metadata": {},
   "outputs": [],
   "source": []
  },
  {
   "cell_type": "markdown",
   "id": "7242260f-0787-4bf5-b84b-6211d89a592b",
   "metadata": {},
   "source": [
    "Demander à l'utilisateur son age, et afficher s'il est un enfant, ado (entre 12 et 18), adulte"
   ]
  },
  {
   "cell_type": "code",
   "execution_count": null,
   "id": "770707a9-3e36-43cc-bbf6-46e884566cf8",
   "metadata": {},
   "outputs": [],
   "source": []
  },
  {
   "cell_type": "markdown",
   "id": "0a210249-ef33-41d0-a0c8-90ea43ee17a3",
   "metadata": {
    "tags": []
   },
   "source": [
    "## Un peu plus compliqué"
   ]
  },
  {
   "cell_type": "markdown",
   "id": "831baf68-1bc2-49e7-9066-e9ee33d6691f",
   "metadata": {},
   "source": [
    "Afficher les 100 premiers nombres pairs."
   ]
  },
  {
   "cell_type": "code",
   "execution_count": null,
   "id": "a9dbfb51-e965-4afe-b587-8a753ac63d00",
   "metadata": {},
   "outputs": [],
   "source": []
  },
  {
   "cell_type": "markdown",
   "id": "a7a65b65-0e86-48d2-9cb2-755c8a6fe0d9",
   "metadata": {},
   "source": [
    " Ecriver un programme prenant en entrée un nombre de secondes et qui le convertit en années, mois, jours, heures, minutes et secondes"
   ]
  },
  {
   "cell_type": "code",
   "execution_count": 30,
   "id": "f46be7bf-85bf-42fa-b075-b0b59bd40260",
   "metadata": {},
   "outputs": [
    {
     "name": "stdin",
     "output_type": "stream",
     "text": [
      "Date en secondes :  10\n"
     ]
    },
    {
     "name": "stdout",
     "output_type": "stream",
     "text": [
      "0 année, 0 mois, 0 jours, 0 heures, 0 minutes 10 secondes\n"
     ]
    }
   ],
   "source": []
  },
  {
   "cell_type": "markdown",
   "id": "4bdd2a03-5f14-4078-a404-2f6ec56253bd",
   "metadata": {
    "tags": []
   },
   "source": [
    "## Les chaines de caractères"
   ]
  },
  {
   "cell_type": "markdown",
   "id": "c3b61e61-8610-4399-a6b5-244fc87a7806",
   "metadata": {},
   "source": [
    "Ecrire une fonction prenant une chaine de caractéres et un caractére en paramétre et retournant le nombre de fois qu'apparait ce caractère. Vous ne devez pas utiliser la méthode count de str."
   ]
  },
  {
   "cell_type": "code",
   "execution_count": null,
   "id": "93834c41-ceb5-435a-ab2a-93e9b45ab89c",
   "metadata": {},
   "outputs": [],
   "source": []
  },
  {
   "cell_type": "markdown",
   "id": "5b3e643a-ab70-4ecf-8b34-497697218eaa",
   "metadata": {},
   "source": [
    "Créer un programme permettant de compter le nombre de voyelles dans une chaine de caratéres."
   ]
  },
  {
   "cell_type": "code",
   "execution_count": null,
   "id": "94ee5fb2-9bcb-419c-97f2-c63f611b8d0a",
   "metadata": {},
   "outputs": [],
   "source": []
  },
  {
   "cell_type": "markdown",
   "id": "aaf167b6-55fd-498d-be2d-7b24a6b83417",
   "metadata": {},
   "source": [
    "Ecrire une fonction prenant en paramétre une chaine de caractères et retournant True si la chaine est un palindrome. Un palindrome étant une chaine pouvant se lire dans les 2 sens"
   ]
  },
  {
   "cell_type": "code",
   "execution_count": null,
   "id": "ccf9c41f-e854-4f40-aef0-906216af72b8",
   "metadata": {},
   "outputs": [],
   "source": [
    "\n"
   ]
  },
  {
   "cell_type": "markdown",
   "id": "d3b6e9d2-fe5c-486f-b7ab-d6ef31e9c8ef",
   "metadata": {},
   "source": [
    "Créer un programme permettant d'implémenter le principe du look and Say. Le look an say consiste à ecrire ce que l'on voit. Par exemple :\n",
    "<pre>\n",
    "1       s'ecrit     11 (je vois 1 1)\n",
    "11      s'ecrit     21 (je vois 2 1)\n",
    "21      s'ecrit     1211 \n",
    "1211    s'ecrit     111221\n",
    "</pre>\n",
    "Répeter 40 fois la lecture en partant de 1113222113. Combien de caractères composent le dernier nombre ?"
   ]
  },
  {
   "cell_type": "code",
   "execution_count": null,
   "id": "dc7ec88a-1ec6-4b9b-8b83-920ed827789c",
   "metadata": {},
   "outputs": [],
   "source": []
  },
  {
   "cell_type": "markdown",
   "id": "aec8544b-d3a9-48fb-8781-b477c5499a25",
   "metadata": {
    "tags": []
   },
   "source": [
    "### Créer des figures avec des boucles for"
   ]
  },
  {
   "cell_type": "markdown",
   "id": "cb594c47-abeb-4ab4-b775-97f9a27194c9",
   "metadata": {},
   "source": [
    "Afficher la pyramide suivante :\n",
    "\n",
    "<pre>\n",
    "    #    \n",
    "   ###   \n",
    "  #####  \n",
    " ####### \n",
    " ####### \n",
    "  #####  \n",
    "   ###   \n",
    "    #    \n",
    "\n",
    "</pre>\n"
   ]
  },
  {
   "cell_type": "code",
   "execution_count": null,
   "id": "6cf35105-bf84-4ad3-9f82-99156bbbdcd2",
   "metadata": {},
   "outputs": [],
   "source": []
  },
  {
   "cell_type": "markdown",
   "id": "ce261b09-6489-4877-aab5-82d50079714e",
   "metadata": {},
   "source": [
    "Afficher la figure suivante :\n",
    "\n",
    "\n",
    "<pre>\n",
    "    #        #        #        #        #    \n",
    "   ###      ###      ###      ###      ###   \n",
    "  #####    #####    #####    #####    #####  \n",
    " #######  #######  #######  #######  ####### \n",
    " #######  #######  #######  #######  ####### \n",
    "  #####    #####    #####    #####    #####  \n",
    "   ###      ###      ###      ###      ###   \n",
    "    #        #        #        #        #    \n",
    "</pre>"
   ]
  },
  {
   "cell_type": "code",
   "execution_count": null,
   "id": "d142ac72-c34b-422e-884b-a7e5650a0010",
   "metadata": {},
   "outputs": [],
   "source": []
  },
  {
   "cell_type": "markdown",
   "id": "bdb4fd1a-bf12-4901-b70e-f690d613a7c8",
   "metadata": {},
   "source": [
    "## Les Listes"
   ]
  },
  {
   "cell_type": "markdown",
   "id": "db0a09c2-1646-4bff-a854-0ad994d3bfa4",
   "metadata": {},
   "source": [
    "Apres avoir créé une fonction indiquant si un nombre est premier, créer une liste contenant les 20 premiers nombres premiers."
   ]
  },
  {
   "cell_type": "code",
   "execution_count": null,
   "id": "03a93991-3a1e-4033-8598-916a95681184",
   "metadata": {},
   "outputs": [],
   "source": []
  },
  {
   "cell_type": "markdown",
   "id": "98c0f651-1747-4c90-bb37-94f3d40424b3",
   "metadata": {},
   "source": [
    "En ecrivant sur 1 ligne, initialiser une liste contenant tous les nombres divisibles par 3 et inférieur à 100 puis afficher cette liste."
   ]
  },
  {
   "cell_type": "code",
   "execution_count": null,
   "id": "85361bbc-8b65-4d09-9228-c25a7f5db7e1",
   "metadata": {},
   "outputs": [],
   "source": []
  },
  {
   "cell_type": "markdown",
   "id": "065b2316-0910-498a-b543-01d57433401c",
   "metadata": {},
   "source": [
    "Écrire un programme qui affiche les nombres de 1 à 199. Mais pour les multiples de 3, afficher “Fizz” au lieu du nombre et pour les multiples de 5 afficher “Buzz”. Pour les nombres multiples de 3 et 5, afficher “FizzBuzz”."
   ]
  },
  {
   "cell_type": "code",
   "execution_count": null,
   "id": "124383d0-dd20-4c52-ba8d-d413919a9c3d",
   "metadata": {},
   "outputs": [],
   "source": []
  },
  {
   "cell_type": "markdown",
   "id": "757c068f-d48a-492e-89b5-c070fc50f546",
   "metadata": {},
   "source": [
    "## Les dictionnaires"
   ]
  },
  {
   "cell_type": "markdown",
   "id": "b0e5f6e1-0775-43e4-92c6-c2e9e524c6bd",
   "metadata": {},
   "source": [
    "Créer un méthode prenant en paramétre une chaine de caractére et retournant un dictionnaire indiquant le nombre de fois du'apparait chaque caractére de l'alphabet dans la phrase."
   ]
  },
  {
   "cell_type": "code",
   "execution_count": null,
   "id": "37fe74d5-b325-4ff8-8155-de5b501c50cc",
   "metadata": {},
   "outputs": [],
   "source": []
  },
  {
   "cell_type": "markdown",
   "id": "407b8ed3-2b13-4ff2-9095-5e448cff5e0d",
   "metadata": {},
   "source": [
    "En utilisant la fonction <i>open</i>, lire le fichier suivant  [Fichier](./assets/texte-etalonnage.txt) et indiquer le nombre fois qu'apparait chaque caractère de l'alphabet"
   ]
  },
  {
   "cell_type": "code",
   "execution_count": null,
   "id": "f75c4fd0-c463-48f3-8570-2e89dd7db624",
   "metadata": {},
   "outputs": [],
   "source": []
  },
  {
   "cell_type": "markdown",
   "id": "b3233a75-93ad-43ab-8aef-9253f2e15f57",
   "metadata": {},
   "source": [
    "En utilisant les librairies pandas et mathplotlib, et en vous inspirant de la page https://datatofish.com/matplotlib-charts-tkinter-gui/, afficher un graphique en bar en abcisse les lettres et en ordonnée leur apparition dans le fichier."
   ]
  },
  {
   "cell_type": "code",
   "execution_count": 52,
   "id": "2e69bb0f-1f16-4996-bbc6-e3fbda0ff8d3",
   "metadata": {},
   "outputs": [],
   "source": [
    "import tkinter as tk\n",
    "from pandas import DataFrame\n",
    "import matplotlib.pyplot as plt\n",
    "from matplotlib.backends.backend_tkagg import FigureCanvasTkAgg\n"
   ]
  },
  {
   "cell_type": "markdown",
   "id": "f17a7273-a9ec-4951-85f5-0d76ee7e121e",
   "metadata": {},
   "source": [
    "## Les classes"
   ]
  },
  {
   "cell_type": "markdown",
   "id": "e27c946b-49f7-4bb5-bc7a-b5c22be74436",
   "metadata": {},
   "source": [
    "Réaliser l’implementation du jeu de la vie en implementant 3 classes : Cell, DeathCel, AliveCell"
   ]
  },
  {
   "cell_type": "code",
   "execution_count": null,
   "id": "eb428985-e543-4ed4-9714-8dd7927ec661",
   "metadata": {},
   "outputs": [],
   "source": []
  }
 ],
 "metadata": {
  "kernelspec": {
   "display_name": "Python 3 (ipykernel)",
   "language": "python",
   "name": "python3"
  },
  "language_info": {
   "codemirror_mode": {
    "name": "ipython",
    "version": 3
   },
   "file_extension": ".py",
   "mimetype": "text/x-python",
   "name": "python",
   "nbconvert_exporter": "python",
   "pygments_lexer": "ipython3",
   "version": "3.8.3"
  }
 },
 "nbformat": 4,
 "nbformat_minor": 5
}
